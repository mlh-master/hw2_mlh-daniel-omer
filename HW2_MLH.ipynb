{
 "cells": [
  {
   "cell_type": "markdown",
   "metadata": {},
   "source": [
    "# <b>Theoreticl Questions<b>"
   ]
  },
  {
   "cell_type": "markdown",
   "metadata": {},
   "source": [
    "**Q1:**\n",
    "<br>\n",
    "To evaluate how well our model performs at T1D classification, we need to have evaluation metrics that measures of its performances/accuracy. Which evaluation metric is more important to us: model accuracy or model performance? Give a simple example that illustrates your claim"
   ]
  },
  {
   "cell_type": "markdown",
   "metadata": {},
   "source": [
    "A1:"
   ]
  },
  {
   "cell_type": "markdown",
   "metadata": {},
   "source": [
    "**Q2:**\n",
    "<br>\n",
    "T1D is often associated with other comorbidities such as a heart attack. You are asked to design a ML algorithm to predict which patients are going to suffer a heart attack. Relevant patient features for the algorithm may include blood pressure (BP), body-mass index (BMI), age (A), level of physical activity (P), and income (I). You should choose between two classifiers: the first uses only BP and BMI features and the other one uses all of the features available to you. Explain the pros and cons of each choice."
   ]
  },
  {
   "cell_type": "markdown",
   "metadata": {},
   "source": [
    "**A2:** \n",
    "\n",
    "**Classifier1**\n",
    "<br>\n",
    "Pros- easy to visualize data,less weights to train,\n",
    "<br>\n",
    "Cons-selected feature may not be the best features,\n",
    "    \n",
    "**Classifier2**\n",
    "<br>\n",
    "Pros-\n",
    "<br>\n",
    "Cons-May contain redundant features"
   ]
  },
  {
   "cell_type": "markdown",
   "metadata": {},
   "source": [
    "**Q3:**\n",
    "<br>\n",
    "A histologist wants to use machine learning to tell the difference between pancreas biopsies that show signs of T1D and those that do not. She has already come up with dozens of measurements to take, such as color, size, uniformity and cell-count, but she isn’t sure which model to use. The biopsies are really similar, and it is difficult to distinguish them from the human eye, or by just looking at the features. Which of the following is better: logistic regression, linear SVM or nonlinear SVM? Explain your answer."
   ]
  },
  {
   "cell_type": "markdown",
   "metadata": {},
   "source": [
    "**A3:**\n",
    "<br>\n"
   ]
  },
  {
   "cell_type": "markdown",
   "metadata": {},
   "source": [
    "**Q4:**\n",
    "<br>\n",
    "What are the differences between LR and linear SVM and what is the difference in the effect/concept of their hyper-parameters tuning?"
   ]
  },
  {
   "cell_type": "markdown",
   "metadata": {},
   "source": [
    "**A4:** "
   ]
  },
  {
   "cell_type": "markdown",
   "metadata": {},
   "source": [
    "# <b>Coding Assignment<b>"
   ]
  },
  {
   "cell_type": "code",
   "execution_count": 1,
   "metadata": {},
   "outputs": [],
   "source": [
    "# imports\n",
    "import pandas as pd\n",
    "import numpy as np\n",
    "%matplotlib inline\n",
    "import matplotlib\n",
    "import matplotlib.pyplot as plt\n",
    "from sklearn.model_selection import train_test_split\n",
    "from sklearn.preprocessing import StandardScaler\n"
   ]
  },
  {
   "cell_type": "code",
   "execution_count": 47,
   "metadata": {},
   "outputs": [],
   "source": [
    "#T1D data \n",
    "df_raw = pd.read_csv(\"HW2_data.csv\")\n",
    "df = df_raw.copy()\n",
    "\n",
    "#preprocessing\n",
    "#converting family history to Yes/No\n",
    "df['Family History'] = df['Family History'].map({1: 'Yes', 0 : 'No'})\n",
    "#finding empty cells in dataframe\n",
    "row,col = np.where(pd.isnull(df))\n",
    "for i,j in zip(row,col):\n",
    "    df.iloc[i,j] = np.nan\n",
    "\n"
   ]
  },
  {
   "cell_type": "code",
   "execution_count": 48,
   "metadata": {},
   "outputs": [],
   "source": [
    "# train test split\n",
    "# feature columns\n",
    "features = [0,1,2,3,4,5,6,7,8,9,10,11,12,13,14,15,17]\n",
    "X = df.iloc[:,features]\n",
    "# T1D prediction\n",
    "y = df.iloc[:,16]\n",
    "X_train, x_test, Y_train, y_test = train_test_split(X, y, test_size = 0.20, random_state = 10, stratify=y)"
   ]
  },
  {
   "cell_type": "markdown",
   "metadata": {},
   "source": [
    "<b>Data visualization and exploration<b>"
   ]
  },
  {
   "cell_type": "code",
   "execution_count": 49,
   "metadata": {},
   "outputs": [
    {
     "data": {
      "image/png": "[encoded data removed]",
      "text/plain": [
       "<Figure size 432x288 with 1 Axes>"
      ]
     },
     "metadata": {
      "needs_background": "light"
     },
     "output_type": "display_data"
    },
    {
     "data": {
      "image/png": "[encoded data removed]",
      "text/plain": [
       "<Figure size 432x288 with 1 Axes>"
      ]
     },
     "metadata": {
      "needs_background": "light"
     },
     "output_type": "display_data"
    }
   ],
   "source": [
    "#Distribution in train and test set\n",
    "\n",
    "fig1, ax1 =plt.subplots(1,1)\n",
    "st1 = X_train.iloc[:,0].describe()\n",
    "st2 = x_test.iloc[:,0].describe()\n",
    "data = [['mean',st1['mean'],st2['mean']],['median',st1['50%'],st2['50%']],['std',st1['std'],st2['std']]]\n",
    "\n",
    "column_labels=[\"Distribution Parameters\", \"Age in train set\", \"Age in test set\"]\n",
    "ax1.axis('tight')\n",
    "ax1.axis('off')\n",
    "ax1.table(cellText=data,colLabels=column_labels,loc=\"center\")\n",
    "plt.show()\n",
    "\n",
    "fig2, ax2 =plt.subplots(1,1)\n",
    "st1 = X_train.iloc[:,1].describe()\n",
    "st2 = x_test.iloc[:,1].describe()\n",
    "data = [['freq gender',st1['top'],st2['top']],['freq gender %',st1['freq']/st1['count'],st2['freq']/st2['count']],['less freq gender %',1-st1['freq']/st1['count'],1-st2['freq']/st2['count']]]\n",
    "column_labels=[\"Parameters\", \"Gender in train set\", \"Gender in test set\"]\n",
    "ax2.axis('tight')\n",
    "ax2.axis('off')\n",
    "ax2.table(cellText=data,colLabels=column_labels,loc=\"center\")\n",
    "plt.show()\n",
    "\n",
    "\n",
    "    \n",
    "    \n"
   ]
  },
  {
   "cell_type": "code",
   "execution_count": 56,
   "metadata": {},
   "outputs": [
    {
     "name": "stdout",
     "output_type": "stream",
     "text": [
      "Train set stats\n",
      "{'%  Yes in Increased Urination': 0.4845132743362832, '%  Yes in Increased Thirst': 0.4416475972540046, '%  Yes in Sudden Weight Loss': 0.4071588366890381, '%  Yes in Weakness': 0.5575221238938053, '%  Yes in Increased Hunger': 0.44318181818181823, '%  Yes in Genital Thrush': 0.20861678004535145, '%  Yes in Visual Blurring': 0.4424778761061947, '%  Yes in Itching': 0.47619047619047616, '%  Yes in Irritability': 0.2256637168141593, '%  Yes in Delayed Healing': 0.4690265486725663, '%  Yes in Partial Paresis': 0.422566371681416, '%  Yes in Muscle Stiffness': 0.363013698630137, '%  Yes in Hair Loss': 0.3584070796460177, '%  Yes in Obesity': 0.17035398230088494, '%  Yes in Family History': 0.48672566371681414}\n",
      "Test set stats\n",
      "{'%  Yes in Increased Urination': 0.47787610619469023, '%  Yes in Increased Thirst': 0.4537037037037037, '%  Yes in Sudden Weight Loss': 0.42201834862385323, '%  Yes in Weakness': 0.6283185840707964, '%  Yes in Increased Hunger': 0.4553571428571429, '%  Yes in Genital Thrush': 0.2727272727272727, '%  Yes in Visual Blurring': 0.47787610619469023, '%  Yes in Itching': 0.5132743362831859, '%  Yes in Irritability': 0.2743362831858407, '%  Yes in Delayed Healing': 0.4336283185840708, '%  Yes in Partial Paresis': 0.4424778761061947, '%  Yes in Muscle Stiffness': 0.3839285714285714, '%  Yes in Hair Loss': 0.35398230088495575, '%  Yes in Obesity': 0.15929203539823011, '%  Yes in Family History': 0.584070796460177}\n"
     ]
    }
   ],
   "source": [
    "dict_stat_train={}\n",
    "dict_stat_test={} \n",
    "for f in X_train.columns:\n",
    "    if f == 'Age' or f == 'Gender':\n",
    "        continue\n",
    "    count = X_train[f].describe(exclude=[np.number])['count']\n",
    "    top = X_train[f].describe(exclude=[np.number])['top']\n",
    "    freq = X_train[f].describe(exclude=[np.number])['freq']\n",
    "    if top == 'Yes':\n",
    "        dict_stat_train['%  Yes in ' + str(f)]=freq/count\n",
    "    else:\n",
    "        dict_stat_train['%  Yes in ' + str(f)]=1-freq/count\n",
    "    \n",
    "    count = x_test[f].describe(exclude=[np.number])['count']\n",
    "    top = x_test[f].describe(exclude=[np.number])['top']\n",
    "    freq = x_test[f].describe(exclude=[np.number])['freq']\n",
    "    if top == 'Yes':\n",
    "        dict_stat_test['%  Yes in ' + str(f)]=freq/count\n",
    "    else:\n",
    "        dict_stat_test['%  Yes in ' + str(f)]=1-freq/count\n",
    "\n",
    "print('Train set stats')\n",
    "print(dict_stat_train)\n",
    "print('Test set stats')\n",
    "print(dict_stat_test)\n",
    "\n",
    "    "
   ]
  },
  {
   "cell_type": "markdown",
   "metadata": {},
   "source": [
    "If training and test datasets are not sampled from the same distribution, there is an imbalance between them then training  cannot be used to predict anything about the test dataset in a usable manner.\n",
    "<br>\n",
    "This problem is known as **DataShift**\n",
    "<br>\n",
    "We can treat DataShift by:\n",
    "<br>\n",
    "1. Dropping of drifting features\n",
    "2. Importance weight using Density Ratio Estimation"
   ]
  },
  {
   "cell_type": "code",
   "execution_count": null,
   "metadata": {},
   "outputs": [],
   "source": [
    "# relationship between feature and label\n",
    "\n"
   ]
  }
 ],
 "metadata": {
  "kernelspec": {
   "display_name": "Python 3",
   "language": "python",
   "name": "python3"
  },
  "language_info": {
   "codemirror_mode": {
    "name": "ipython",
    "version": 3
   },
   "file_extension": ".py",
   "mimetype": "text/x-python",
   "name": "python",
   "nbconvert_exporter": "python",
   "pygments_lexer": "ipython3",
   "version": "3.7.9"
  }
 },
 "nbformat": 4,
 "nbformat_minor": 4
}
