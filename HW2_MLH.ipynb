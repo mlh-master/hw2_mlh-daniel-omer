{
 "cells": [
  {
   "cell_type": "markdown",
   "metadata": {},
   "source": [
    "# <b>Theoreticl Questions<b>"
   ]
  },
  {
   "cell_type": "markdown",
   "metadata": {},
   "source": [
    "**Q1:**\n",
    "<br>\n",
    "To evaluate how well our model performs at T1D classification, we need to have evaluation metrics that measures of its performances/accuracy. Which evaluation metric is more important to us: model accuracy or model performance? Give a simple example that illustrates your claim"
   ]
  },
  {
   "cell_type": "markdown",
   "metadata": {},
   "source": [
    "**A1:**\n",
    "<br>\n",
    "The model performance would be a better evaluation metric in this case. Model accuracy is just the number of correct predictions made by the model devided by the total number of predictions - which would not be a good model in this case because we have a relatively small number of people in the population with the T1D. For example, if we use a classifier that classifies all patients as being healthy, we would get an accuracy of at least 99.67% (according to the assignment that states that up to 0.33% suffer from T1D), which is a very high accuracy, but this is a terrible classifier."
   ]
  },
  {
   "cell_type": "markdown",
   "metadata": {},
   "source": [
    "**Q2:**\n",
    "<br>\n",
    "T1D is often associated with other comorbidities such as a heart attack. You are asked to design a ML algorithm to predict which patients are going to suffer a heart attack. Relevant patient features for the algorithm may include blood pressure (BP), body-mass index (BMI), age (A), level of physical activity (P), and income (I). You should choose between two classifiers: the first uses only BP and BMI features and the other one uses all of the features available to you. Explain the pros and cons of each choice."
   ]
  },
  {
   "cell_type": "markdown",
   "metadata": {},
   "source": [
    "**A2:** \n",
    "\n",
    "**Classifier1**\n",
    "<br>\n",
    "Pros - Easy to visualize data, less weights to train.\n",
    "<br>\n",
    "Cons - Selected feature may not be the best features, the less features we have - the more missing information in one of the features might increase errors in the classification.\n",
    "    \n",
    "**Classifier2**\n",
    "<br>\n",
    "Pros - Contains a wider selection of features which might help get a better classification.\n",
    "<br>\n",
    "Cons - Longer training time, may contain redundant features."
   ]
  },
  {
   "cell_type": "markdown",
   "metadata": {},
   "source": [
    "**Q3:**\n",
    "<br>\n",
    "A histologist wants to use machine learning to tell the difference between pancreas biopsies that show signs of T1D and those that do not. She has already come up with dozens of measurements to take, such as color, size, uniformity and cell-count, but she isn’t sure which model to use. The biopsies are really similar, and it is difficult to distinguish them from the human eye, or by just looking at the features. Which of the following is better: logistic regression, linear SVM or nonlinear SVM? Explain your answer."
   ]
  },
  {
   "cell_type": "markdown",
   "metadata": {},
   "source": [
    "**A3:**\n",
    "<br>\n",
    "Since the data is difficult to distinguish by just looking at the features, logistic regression would not be useful for classification, nor would linear SVM, since the data is non-seperable, and therefore we cannot seperate the data using a linear line.\n",
    "In this case, nonlinear SVM would be the most useful method, since it would transform our non-seperable data into a higher dimensional space, where the data might prove to be seperable."
   ]
  },
  {
   "cell_type": "markdown",
   "metadata": {},
   "source": [
    "**Q4:**\n",
    "<br>\n",
    "What are the differences between LR and linear SVM and what is the difference in the effect/concept of their hyper-parameters tuning?"
   ]
  },
  {
   "cell_type": "markdown",
   "metadata": {},
   "source": [
    "**A4:** \n",
    "The main difference between LR and Linear SVM is that linear SVM find the \"best\" margin that seperates the classes, while LR does not, and can have different boundaries with different weights (the boundary is not \"optimized\").\n",
    "Another differense is that LR uses a probobilistic approach, while SVM is deterministic.\n",
    "The differnce in the concept of their hyper-parameters tuning is that LR uses a regularization (penalty) - for example, l1 or l2, and the C parameter which gives us the penalty strength. For linear SVM - we use the \"kernel trick\" in order to find the best hypter-parameters."
   ]
  },
  {
   "cell_type": "markdown",
   "metadata": {},
   "source": [
    "# <b>Coding Assignment<b>"
   ]
  },
  {
   "cell_type": "code",
   "execution_count": 1,
   "metadata": {},
   "outputs": [],
   "source": [
    "# imports\n",
    "import pandas as pd\n",
    "import numpy as np\n",
    "%matplotlib inline\n",
    "import matplotlib\n",
    "import matplotlib.pyplot as plt\n",
    "from sklearn.model_selection import train_test_split\n",
    "from sklearn.preprocessing import StandardScaler\n"
   ]
  },
  {
   "cell_type": "code",
   "execution_count": 2,
   "metadata": {},
   "outputs": [
    {
     "name": "stdout",
     "output_type": "stream",
     "text": [
      "(523, 18)\n"
     ]
    }
   ],
   "source": [
    "#T1D data \n",
    "df_raw = pd.read_csv(\"HW2_data.csv\")\n",
    "df = df_raw.copy()\n",
    "\n",
    "#preprocessing\n",
    "#converting family history to Yes/No\n",
    "df['Family History'] = df['Family History'].map({1: 'Yes', 0 : 'No'})\n",
    "#since only around 7% of data has missing values, we dropped these rows\n",
    "df = df.dropna()\n",
    "print(df.shape)"
   ]
  },
  {
   "cell_type": "markdown",
   "metadata": {},
   "source": [
    "The reason we dropped the rows and not entered NA values is so when we convert the data into One hot vector, we won't have extra categories due to the NA values. We also didn't want to add random value to the dataset since the values are binary."
   ]
  },
  {
   "cell_type": "code",
   "execution_count": 3,
   "metadata": {},
   "outputs": [],
   "source": [
    "# train test split\n",
    "# feature columns\n",
    "features = [0,1,2,3,4,5,6,7,8,9,10,11,12,13,14,15,17]\n",
    "X = df.iloc[:,features]\n",
    "# T1D prediction\n",
    "y = df.iloc[:,16]\n",
    "X_train, x_test, Y_train, y_test = train_test_split(X, y, test_size = 0.20, random_state = 10, stratify=y)"
   ]
  },
  {
   "cell_type": "markdown",
   "metadata": {},
   "source": [
    "<b>Data visualization and exploration<b>"
   ]
  },
  {
   "cell_type": "code",
   "execution_count": 4,
   "metadata": {},
   "outputs": [
    {
     "data": {
      "image/png": "[encoded data removed]",
      "text/plain": [
       "<Figure size 432x288 with 1 Axes>"
      ]
     },
     "metadata": {
      "needs_background": "light"
     },
     "output_type": "display_data"
    },
    {
     "data": {
      "image/png": "[encoded data removed]",
      "text/plain": [
       "<Figure size 432x288 with 1 Axes>"
      ]
     },
     "metadata": {
      "needs_background": "light"
     },
     "output_type": "display_data"
    }
   ],
   "source": [
    "#Distribution in train and test set\n",
    "\n",
    "fig1, ax1 =plt.subplots(1,1)\n",
    "st1 = X_train.iloc[:,0].describe()\n",
    "st2 = x_test.iloc[:,0].describe()\n",
    "data = [['mean',st1['mean'],st2['mean']],['median',st1['50%'],st2['50%']],['std',st1['std'],st2['std']]]\n",
    "\n",
    "column_labels=[\"Distribution Parameters\", \"Age in train set\", \"Age in test set\"]\n",
    "ax1.axis('tight')\n",
    "ax1.axis('off')\n",
    "ax1.table(cellText=data,colLabels=column_labels,loc=\"center\")\n",
    "plt.show()\n",
    "\n",
    "fig2, ax2 =plt.subplots(1,1)\n",
    "st1 = X_train.iloc[:,1].describe()\n",
    "st2 = x_test.iloc[:,1].describe()\n",
    "data = [['freq gender',st1['top'],st2['top']],['freq gender %',st1['freq']/st1['count'],st2['freq']/st2['count']],['less freq gender %',1-st1['freq']/st1['count'],1-st2['freq']/st2['count']]]\n",
    "column_labels=[\"Parameters\", \"Gender in train set\", \"Gender in test set\"]\n",
    "ax2.axis('tight')\n",
    "ax2.axis('off')\n",
    "ax2.table(cellText=data,colLabels=column_labels,loc=\"center\")\n",
    "plt.show()\n",
    "\n",
    "\n",
    "    \n",
    "    \n"
   ]
  },
  {
   "cell_type": "code",
   "execution_count": 5,
   "metadata": {},
   "outputs": [
    {
     "name": "stdout",
     "output_type": "stream",
     "text": [
      "Train set stats\n",
      "{'%  Yes in Increased Urination': 0.5047846889952153, '%  Yes in Increased Thirst': 0.46172248803827753, '%  Yes in Sudden Weight Loss': 0.416267942583732, '%  Yes in Weakness': 0.5813397129186603, '%  Yes in Increased Hunger': 0.46650717703349287, '%  Yes in Genital Thrush': 0.20334928229665072, '%  Yes in Visual Blurring': 0.4593301435406698, '%  Yes in Itching': 0.49521531100478466, '%  Yes in Irritability': 0.24641148325358853, '%  Yes in Delayed Healing': 0.47846889952153115, '%  Yes in Partial Paresis': 0.43779904306220097, '%  Yes in Muscle Stiffness': 0.37559808612440193, '%  Yes in Hair Loss': 0.34928229665071775, '%  Yes in Obesity': 0.1722488038277512, '%  Yes in Family History': 0.4976076555023924}\n",
      "Test set stats\n",
      "{'%  Yes in Increased Urination': 0.4571428571428572, '%  Yes in Increased Thirst': 0.38095238095238093, '%  Yes in Sudden Weight Loss': 0.4095238095238095, '%  Yes in Weakness': 0.6, '%  Yes in Increased Hunger': 0.4095238095238095, '%  Yes in Genital Thrush': 0.2952380952380952, '%  Yes in Visual Blurring': 0.3904761904761904, '%  Yes in Itching': 0.4476190476190476, '%  Yes in Irritability': 0.22857142857142854, '%  Yes in Delayed Healing': 0.38095238095238093, '%  Yes in Partial Paresis': 0.3904761904761904, '%  Yes in Muscle Stiffness': 0.36190476190476195, '%  Yes in Hair Loss': 0.33333333333333337, '%  Yes in Obesity': 0.1523809523809524, '%  Yes in Family History': 0.5523809523809524}\n"
     ]
    }
   ],
   "source": [
    "dict_stat_train={}\n",
    "dict_stat_test={} \n",
    "for f in X_train.columns:\n",
    "    if f == 'Age' or f == 'Gender':\n",
    "        continue\n",
    "    count = X_train[f].describe(exclude=[np.number])['count']\n",
    "    top = X_train[f].describe(exclude=[np.number])['top']\n",
    "    freq = X_train[f].describe(exclude=[np.number])['freq']\n",
    "    if top == 'Yes':\n",
    "        dict_stat_train['%  Yes in ' + str(f)]=freq/count\n",
    "    else:\n",
    "        dict_stat_train['%  Yes in ' + str(f)]=1-freq/count\n",
    "    \n",
    "    count = x_test[f].describe(exclude=[np.number])['count']\n",
    "    top = x_test[f].describe(exclude=[np.number])['top']\n",
    "    freq = x_test[f].describe(exclude=[np.number])['freq']\n",
    "    if top == 'Yes':\n",
    "        dict_stat_test['%  Yes in ' + str(f)]=freq/count\n",
    "    else:\n",
    "        dict_stat_test['%  Yes in ' + str(f)]=1-freq/count\n",
    "\n",
    "print('Train set stats')\n",
    "print(dict_stat_train)\n",
    "print('Test set stats')\n",
    "print(dict_stat_test)\n",
    "\n",
    "    "
   ]
  },
  {
   "cell_type": "markdown",
   "metadata": {},
   "source": [
    "If training and test datasets are not sampled from the same distribution, there is an imbalance between them then training  cannot be used to predict anything about the test dataset in a usable manner.\n",
    "<br>\n",
    "This problem is known as **DataShift**\n",
    "<br>\n",
    "We can treat DataShift by:\n",
    "<br>\n",
    "1. Dropping of drifting features\n",
    "2. Importance weight using Density Ratio Estimation"
   ]
  },
  {
   "cell_type": "code",
   "execution_count": 6,
   "metadata": {},
   "outputs": [],
   "source": [
    "# relationship between feature and label\n",
    "\n"
   ]
  },
  {
   "cell_type": "code",
   "execution_count": 7,
   "metadata": {},
   "outputs": [
    {
     "data": {
      "text/html": [
       "<div>\n",
       "<style scoped>\n",
       "    .dataframe tbody tr th:only-of-type {\n",
       "        vertical-align: middle;\n",
       "    }\n",
       "\n",
       "    .dataframe tbody tr th {\n",
       "        vertical-align: top;\n",
       "    }\n",
       "\n",
       "    .dataframe thead th {\n",
       "        text-align: right;\n",
       "    }\n",
       "</style>\n",
       "<table border=\"1\" class=\"dataframe\">\n",
       "  <thead>\n",
       "    <tr style=\"text-align: right;\">\n",
       "      <th></th>\n",
       "      <th>Age_25</th>\n",
       "      <th>Age_26</th>\n",
       "      <th>Age_27</th>\n",
       "      <th>Age_28</th>\n",
       "      <th>Age_29</th>\n",
       "      <th>Age_30</th>\n",
       "      <th>Age_31</th>\n",
       "      <th>Age_32</th>\n",
       "      <th>Age_33</th>\n",
       "      <th>Age_34</th>\n",
       "      <th>...</th>\n",
       "      <th>Visual Blurring_Yes</th>\n",
       "      <th>Itching_Yes</th>\n",
       "      <th>Irritability_Yes</th>\n",
       "      <th>Delayed Healing_Yes</th>\n",
       "      <th>Partial Paresis_Yes</th>\n",
       "      <th>Muscle Stiffness_Yes</th>\n",
       "      <th>Hair Loss_Yes</th>\n",
       "      <th>Obesity_Yes</th>\n",
       "      <th>Diagnosis_Positive</th>\n",
       "      <th>Family History_Yes</th>\n",
       "    </tr>\n",
       "  </thead>\n",
       "  <tbody>\n",
       "    <tr>\n",
       "      <th>0</th>\n",
       "      <td>0</td>\n",
       "      <td>0</td>\n",
       "      <td>0</td>\n",
       "      <td>0</td>\n",
       "      <td>0</td>\n",
       "      <td>0</td>\n",
       "      <td>0</td>\n",
       "      <td>0</td>\n",
       "      <td>0</td>\n",
       "      <td>0</td>\n",
       "      <td>...</td>\n",
       "      <td>0</td>\n",
       "      <td>1</td>\n",
       "      <td>0</td>\n",
       "      <td>0</td>\n",
       "      <td>1</td>\n",
       "      <td>0</td>\n",
       "      <td>1</td>\n",
       "      <td>0</td>\n",
       "      <td>0</td>\n",
       "      <td>0</td>\n",
       "    </tr>\n",
       "    <tr>\n",
       "      <th>1</th>\n",
       "      <td>0</td>\n",
       "      <td>0</td>\n",
       "      <td>0</td>\n",
       "      <td>0</td>\n",
       "      <td>0</td>\n",
       "      <td>0</td>\n",
       "      <td>0</td>\n",
       "      <td>0</td>\n",
       "      <td>0</td>\n",
       "      <td>0</td>\n",
       "      <td>...</td>\n",
       "      <td>0</td>\n",
       "      <td>0</td>\n",
       "      <td>0</td>\n",
       "      <td>0</td>\n",
       "      <td>0</td>\n",
       "      <td>0</td>\n",
       "      <td>1</td>\n",
       "      <td>0</td>\n",
       "      <td>0</td>\n",
       "      <td>0</td>\n",
       "    </tr>\n",
       "    <tr>\n",
       "      <th>2</th>\n",
       "      <td>0</td>\n",
       "      <td>0</td>\n",
       "      <td>0</td>\n",
       "      <td>0</td>\n",
       "      <td>0</td>\n",
       "      <td>0</td>\n",
       "      <td>0</td>\n",
       "      <td>0</td>\n",
       "      <td>0</td>\n",
       "      <td>0</td>\n",
       "      <td>...</td>\n",
       "      <td>0</td>\n",
       "      <td>0</td>\n",
       "      <td>0</td>\n",
       "      <td>1</td>\n",
       "      <td>0</td>\n",
       "      <td>0</td>\n",
       "      <td>1</td>\n",
       "      <td>0</td>\n",
       "      <td>1</td>\n",
       "      <td>0</td>\n",
       "    </tr>\n",
       "    <tr>\n",
       "      <th>3</th>\n",
       "      <td>0</td>\n",
       "      <td>0</td>\n",
       "      <td>0</td>\n",
       "      <td>0</td>\n",
       "      <td>0</td>\n",
       "      <td>0</td>\n",
       "      <td>0</td>\n",
       "      <td>0</td>\n",
       "      <td>0</td>\n",
       "      <td>0</td>\n",
       "      <td>...</td>\n",
       "      <td>0</td>\n",
       "      <td>0</td>\n",
       "      <td>0</td>\n",
       "      <td>0</td>\n",
       "      <td>0</td>\n",
       "      <td>0</td>\n",
       "      <td>0</td>\n",
       "      <td>0</td>\n",
       "      <td>1</td>\n",
       "      <td>1</td>\n",
       "    </tr>\n",
       "    <tr>\n",
       "      <th>4</th>\n",
       "      <td>0</td>\n",
       "      <td>0</td>\n",
       "      <td>0</td>\n",
       "      <td>0</td>\n",
       "      <td>0</td>\n",
       "      <td>0</td>\n",
       "      <td>0</td>\n",
       "      <td>0</td>\n",
       "      <td>0</td>\n",
       "      <td>0</td>\n",
       "      <td>...</td>\n",
       "      <td>1</td>\n",
       "      <td>1</td>\n",
       "      <td>0</td>\n",
       "      <td>0</td>\n",
       "      <td>1</td>\n",
       "      <td>1</td>\n",
       "      <td>0</td>\n",
       "      <td>0</td>\n",
       "      <td>1</td>\n",
       "      <td>0</td>\n",
       "    </tr>\n",
       "  </tbody>\n",
       "</table>\n",
       "<p>5 rows × 67 columns</p>\n",
       "</div>"
      ],
      "text/plain": [
       "   Age_25  Age_26  Age_27  Age_28  Age_29  Age_30  Age_31  Age_32  Age_33  \\\n",
       "0       0       0       0       0       0       0       0       0       0   \n",
       "1       0       0       0       0       0       0       0       0       0   \n",
       "2       0       0       0       0       0       0       0       0       0   \n",
       "3       0       0       0       0       0       0       0       0       0   \n",
       "4       0       0       0       0       0       0       0       0       0   \n",
       "\n",
       "   Age_34  ...  Visual Blurring_Yes  Itching_Yes  Irritability_Yes  \\\n",
       "0       0  ...                    0            1                 0   \n",
       "1       0  ...                    0            0                 0   \n",
       "2       0  ...                    0            0                 0   \n",
       "3       0  ...                    0            0                 0   \n",
       "4       0  ...                    1            1                 0   \n",
       "\n",
       "   Delayed Healing_Yes  Partial Paresis_Yes  Muscle Stiffness_Yes  \\\n",
       "0                    0                    1                     0   \n",
       "1                    0                    0                     0   \n",
       "2                    1                    0                     0   \n",
       "3                    0                    0                     0   \n",
       "4                    0                    1                     1   \n",
       "\n",
       "   Hair Loss_Yes  Obesity_Yes  Diagnosis_Positive  Family History_Yes  \n",
       "0              1            0                   0                   0  \n",
       "1              1            0                   0                   0  \n",
       "2              1            0                   1                   0  \n",
       "3              0            0                   1                   1  \n",
       "4              0            0                   1                   0  \n",
       "\n",
       "[5 rows x 67 columns]"
      ]
     },
     "execution_count": 7,
     "metadata": {},
     "output_type": "execute_result"
    }
   ],
   "source": [
    "for col in df:\n",
    "    vector = pd.get_dummies(df[[col]].astype(str), drop_first=True) # convertion to string allows us to work with the ages\n",
    "    df = pd.concat([df,vector],axis=1)\n",
    "    df = df.drop(columns=[col])\n",
    "df.head()"
   ]
  }
 ],
 "metadata": {
  "kernelspec": {
   "display_name": "Python 3",
   "language": "python",
   "name": "python3"
  },
  "language_info": {
   "codemirror_mode": {
    "name": "ipython",
    "version": 3
   },
   "file_extension": ".py",
   "mimetype": "text/x-python",
   "name": "python",
   "nbconvert_exporter": "python",
   "pygments_lexer": "ipython3",
   "version": "3.7.9"
  }
 },
 "nbformat": 4,
 "nbformat_minor": 4
}
